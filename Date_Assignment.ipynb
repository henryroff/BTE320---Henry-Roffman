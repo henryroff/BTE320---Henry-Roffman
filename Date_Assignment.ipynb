{
  "nbformat": 4,
  "nbformat_minor": 0,
  "metadata": {
    "colab": {
      "provenance": [],
      "authorship_tag": "ABX9TyMFspfUoyZ9vkf0+jwBwk6p",
      "include_colab_link": true
    },
    "kernelspec": {
      "name": "python3",
      "display_name": "Python 3"
    },
    "language_info": {
      "name": "python"
    }
  },
  "cells": [
    {
      "cell_type": "markdown",
      "metadata": {
        "id": "view-in-github",
        "colab_type": "text"
      },
      "source": [
        "<a href=\"https://colab.research.google.com/github/henryroff/BTE320---Henry-Roffman/blob/main/Date_Assignment.ipynb\" target=\"_parent\"><img src=\"https://colab.research.google.com/assets/colab-badge.svg\" alt=\"Open In Colab\"/></a>"
      ]
    },
    {
      "cell_type": "code",
      "execution_count": 7,
      "metadata": {
        "colab": {
          "base_uri": "https://localhost:8080/"
        },
        "id": "VaKnhfUs_cp2",
        "outputId": "f28b6273-e5e2-4f42-b585-6b4f133c2b9c"
      },
      "outputs": [
        {
          "output_type": "stream",
          "name": "stdout",
          "text": [
            "Please enter a date (mm/dd/yyyy): 08/02/1996\n",
            "Month: 08\n",
            "Day: 02\n",
            "Year: 1996\n"
          ]
        }
      ],
      "source": [
        "#Date Assignment\n",
        "\n",
        "\n",
        "date = input('Please enter a date (mm/dd/yyyy): ')\n",
        "\n",
        "Month = date[:2]\n",
        "Day = date[3:5]\n",
        "Year = date[6:10]\n",
        "\n",
        "print('Month:', Month)\n",
        "print('Day:' , Day)\n",
        "print('Year:' , Year)\n",
        "\n",
        "\n",
        "\n"
      ]
    }
  ]
}