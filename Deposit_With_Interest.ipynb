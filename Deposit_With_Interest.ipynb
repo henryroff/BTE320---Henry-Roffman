{
  "nbformat": 4,
  "nbformat_minor": 0,
  "metadata": {
    "colab": {
      "provenance": [],
      "authorship_tag": "ABX9TyPgBNiMR1ZzxIr6ui3RVKYL",
      "include_colab_link": true
    },
    "kernelspec": {
      "name": "python3",
      "display_name": "Python 3"
    },
    "language_info": {
      "name": "python"
    }
  },
  "cells": [
    {
      "cell_type": "markdown",
      "metadata": {
        "id": "view-in-github",
        "colab_type": "text"
      },
      "source": [
        "<a href=\"https://colab.research.google.com/github/henryroff/BTE320---Henry-Roffman/blob/main/Deposit_With_Interest.ipynb\" target=\"_parent\"><img src=\"https://colab.research.google.com/assets/colab-badge.svg\" alt=\"Open In Colab\"/></a>"
      ]
    },
    {
      "cell_type": "code",
      "execution_count": null,
      "metadata": {
        "id": "MZzsrH4hL6E9"
      },
      "outputs": [],
      "source": [
        "deposit = float (input(\"Enter deposit amount here:\"))\n",
        "if deposit >10000:\n",
        "  ir = 3.5\n",
        "elif deposit >1000:\n",
        "  ir=3.25\n",
        "else :\n",
        "  ir=3.0\n",
        "total = (1+ir/100) * deposit\n",
        "print (f' deposit at the end of year : {round(total,2)}')"
      ]
    }
  ]
}