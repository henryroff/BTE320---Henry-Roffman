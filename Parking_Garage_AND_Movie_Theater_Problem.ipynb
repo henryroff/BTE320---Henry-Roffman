{
  "nbformat": 4,
  "nbformat_minor": 0,
  "metadata": {
    "colab": {
      "provenance": [],
      "authorship_tag": "ABX9TyNNDKPAGWJ+7kwPxX3723I5",
      "include_colab_link": true
    },
    "kernelspec": {
      "name": "python3",
      "display_name": "Python 3"
    },
    "language_info": {
      "name": "python"
    }
  },
  "cells": [
    {
      "cell_type": "markdown",
      "metadata": {
        "id": "view-in-github",
        "colab_type": "text"
      },
      "source": [
        "<a href=\"https://colab.research.google.com/github/henryroff/BTE320---Henry-Roffman/blob/main/Parking_Garage_Problem.ipynb\" target=\"_parent\"><img src=\"https://colab.research.google.com/assets/colab-badge.svg\" alt=\"Open In Colab\"/></a>"
      ]
    },
    {
      "cell_type": "code",
      "execution_count": null,
      "metadata": {
        "colab": {
          "base_uri": "https://localhost:8080/"
        },
        "id": "-XgLj4Oo0x3N",
        "outputId": "f80264c6-60d9-41ee-b5f0-fd85d225f30d"
      },
      "outputs": [
        {
          "output_type": "stream",
          "name": "stdout",
          "text": [
            "Hours Parked | Fee\n",
            "--------------------\n",
            "     1       | $10.00\n",
            "     2       | $10.00\n",
            "     3       | $10.00\n",
            "     4       | $12.50\n",
            "     5       | $15.00\n",
            "     6       | $17.50\n",
            "     7       | $20.00\n",
            "     8       | $20.00\n"
          ]
        }
      ],
      "source": [
        "# A parking garage charges $5 plus $2.50 for each hour parked. The minimum fee is $10 and the maximum fee is $20.\n",
        "#Write a program that generates a table with hours parked and the corresponding fee, from 1 to 8 hours.\n",
        "#Processing: Can use for and range() to handle repitition from 1 to 8 hours, and the calculaiton for fees\n",
        "# Output: Can use the print() function, within the repitition to display the results\n",
        "\n",
        "\n",
        "MIN_FEE = 10\n",
        "MAX_FEE = 20\n",
        "HOURLY_RATE = 2.50\n",
        "BASE_FEE = 5\n",
        "\n",
        "\n",
        "print(\"Hours Parked | Fee\")\n",
        "print(\"-\" * 20)\n",
        "\n",
        "for hours in range(1, 9):\n",
        "\n",
        "    fee = BASE_FEE + HOURLY_RATE * (hours - 1)\n",
        "    fee = min(MAX_FEE,max(MIN_FEE, fee))\n",
        "\n",
        "\n",
        "    print(f\"{hours:^12} | ${fee:.2f}\")"
      ]
    },
    {
      "cell_type": "code",
      "source": [
        "# a movie theater manager is deiding how much to spend on adertising for an upcoming movie. Each ticket is $10.\n",
        "#Without any advertising, 20 people are forecasted to attend.\n",
        "# Additional people may attend based on advertising spending, estimated to be 2 * round(advertisingdollars^5)\n",
        "#In addition to advertising costs, there are fixed costs to run the theater of $200\n",
        "\n",
        "#write a program to generate a tbale for different advertising amounts and profits\n",
        "\n",
        "TICKET_PRICE, FIXED_COST, BASE_ATTENDEES = 10, 200, 20\n",
        "\n",
        "print(\"Advertising ($) | Attendees | Profit\")\n",
        "print(\"-\" * 36)\n",
        "\n",
        "for advertising_dollars in range(0, 201, 25):\n",
        "    additional_attendance = 2 * round(advertising_dollars ** 0.5)\n",
        "    total_attendance = BASE_ATTENDEES + additional_attendance\n",
        "    total_income = total_attendance * TICKET_PRICE\n",
        "    total_expenses = FIXED_COST + advertising_dollars\n",
        "    profit = total_income - total_expenses\n",
        "\n",
        "    print(f\"${advertising_dollars:<15} {total_attendance:^12} ${profit:>8}\")\n",
        "\n"
      ],
      "metadata": {
        "colab": {
          "base_uri": "https://localhost:8080/"
        },
        "id": "qX_Vuoc21BY1",
        "outputId": "560a38b5-95e0-4e19-b284-268caf506aa3"
      },
      "execution_count": null,
      "outputs": [
        {
          "output_type": "stream",
          "name": "stdout",
          "text": [
            "Advertising ($) | Attendees | Profit\n",
            "------------------------------------\n",
            "$0                    20      $       0\n",
            "$25                   30      $      75\n",
            "$50                   34      $      90\n",
            "$75                   38      $     105\n",
            "$100                  40      $     100\n",
            "$125                  42      $      95\n",
            "$150                  44      $      90\n",
            "$175                  46      $      85\n",
            "$200                  48      $      80\n"
          ]
        }
      ]
    },
    {
      "cell_type": "markdown",
      "source": [],
      "metadata": {
        "id": "g8MUM6GY1Nc0"
      }
    }
  ]
}
